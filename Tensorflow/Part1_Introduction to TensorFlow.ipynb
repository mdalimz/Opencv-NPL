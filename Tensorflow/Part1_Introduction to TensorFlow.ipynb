{
 "cells": [
  {
   "cell_type": "markdown",
   "id": "539bb2e7",
   "metadata": {},
   "source": [
    "# Tensors\n",
    "\"A tensor is a generalization of vectors and matrices to potentially higher dimensions. Internally, TensorFlow represents tensors as n-dimensional arrays of base datatypes.\" (https://www.tensorflow.org/guide/tensor)\n",
    "\n",
    "\n",
    "Each tensor has a data type and a shape.\n",
    "\n",
    "**Data Types Include**: float32, int32, string and others.\n",
    "\n",
    "**Shape**: Represents the dimension of data.\n",
    "\n"
   ]
  },
  {
   "cell_type": "markdown",
   "id": "27ab16fb",
   "metadata": {},
   "source": [
    "### Creating tensor"
   ]
  },
  {
   "cell_type": "code",
   "execution_count": 3,
   "id": "438203a2",
   "metadata": {},
   "outputs": [
    {
     "name": "stderr",
     "output_type": "stream",
     "text": [
      "C:\\Users\\mdram\\anaconda3\\lib\\site-packages\\scipy\\__init__.py:155: UserWarning: A NumPy version >=1.18.5 and <1.25.0 is required for this version of SciPy (detected version 1.26.4\n",
      "  warnings.warn(f\"A NumPy version >={np_minversion} and <{np_maxversion}\"\n"
     ]
    }
   ],
   "source": [
    "#importing library\n",
    "import tensorflow as tf"
   ]
  },
  {
   "cell_type": "raw",
   "id": "3e5fe71d",
   "metadata": {},
   "source": [
    "Data types\n",
    "In addition to rank and shape, tensors have a data type. The following is a list of the data types:\n",
    "\n",
    "Data type\tPython type\tDescription\n",
    "DT_FLOAT\ttf.float32\t32-bit floating point.\n",
    "DT_DOUBLE\ttf.float64\t64-bit floating point.\n",
    "DT_INT8\ttf.int8\t8-bit signed integer.\n",
    "DT_INT16\ttf.int16\t16-bit signed integer.\n",
    "DT_INT32\ttf.int32\t32-bit signed integer.\n",
    "DT_INT64\ttf.int64\t64-bit signed integer.\n",
    "DT_UINT8\ttf.uint8\t8-bit unsigned integer.\n",
    "DT_STRING\ttf.string\tVariable length byte arrays. Each element of a tensor is a byte array.\n",
    "DT_BOOL\ttf.bool\tBoolean.\n",
    "DT_COMPLEX64\ttf.complex64\tComplex number made of two 32 bits floating points, real and imaginary parts.\n",
    "DT_COMPLEX128\ttf.complex128\tComplex number made up of two 64 bits ..."
   ]
  },
  {
   "cell_type": "code",
   "execution_count": 34,
   "id": "18b6f96d",
   "metadata": {},
   "outputs": [],
   "source": [
    "string=tf.Variable('this is a string', tf.string)   #datatype, shape,rank\n",
    "number=tf.Variable(23, tf.int32)\n",
    "floating=tf.Variable(2.3, tf.float64)"
   ]
  },
  {
   "cell_type": "code",
   "execution_count": 55,
   "id": "7b841822",
   "metadata": {},
   "outputs": [
    {
     "data": {
      "text/plain": [
       "(<tf.Tensor: shape=(1,), dtype=int32, numpy=array([3])>,\n",
       " <tf.Tensor: shape=(0,), dtype=int32, numpy=array([], dtype=int32)>)"
      ]
     },
     "execution_count": 55,
     "metadata": {},
     "output_type": "execute_result"
    }
   ],
   "source": [
    "tf.shape([2,3,4]), tf.shape('STRING')   #'SHAPE'"
   ]
  },
  {
   "cell_type": "code",
   "execution_count": 38,
   "id": "29170f9f",
   "metadata": {},
   "outputs": [
    {
     "data": {
      "text/plain": [
       "<tf.Tensor: shape=(), dtype=int32, numpy=1>"
      ]
     },
     "execution_count": 38,
     "metadata": {},
     "output_type": "execute_result"
    }
   ],
   "source": [
    "tf.size(64)"
   ]
  },
  {
   "cell_type": "code",
   "execution_count": 33,
   "id": "514a37f0",
   "metadata": {},
   "outputs": [
    {
     "data": {
      "text/plain": [
       "5"
      ]
     },
     "execution_count": 33,
     "metadata": {},
     "output_type": "execute_result"
    }
   ],
   "source": [
    "num=23\n",
    "num.bit_length()"
   ]
  },
  {
   "cell_type": "markdown",
   "id": "0ade2290",
   "metadata": {},
   "source": [
    "### Rank/Degree\n",
    "Number of dimension link with the tensor?"
   ]
  },
  {
   "cell_type": "code",
   "execution_count": 21,
   "id": "700f259d",
   "metadata": {},
   "outputs": [
    {
     "data": {
      "text/plain": [
       "<tf.Variable 'Variable:0' shape=(1,) dtype=string, numpy=array([b'some value'], dtype=object)>"
      ]
     },
     "execution_count": 21,
     "metadata": {},
     "output_type": "execute_result"
    }
   ],
   "source": [
    "rank1t=tf.Variable(['some value'], tf.string)  # 1D\n",
    "rank2t=tf.Variable([[\"customer\", \"location\"],['jal',\"berlin\"]], tf.string) # 2D\n",
    "rank1t"
   ]
  },
  {
   "cell_type": "code",
   "execution_count": 22,
   "id": "c06d89e2",
   "metadata": {},
   "outputs": [
    {
     "data": {
      "text/plain": [
       "<tf.Variable 'Variable:0' shape=(2, 2) dtype=string, numpy=\n",
       "array([[b'customer', b'location'],\n",
       "       [b'jal', b'berlin']], dtype=object)>"
      ]
     },
     "execution_count": 22,
     "metadata": {},
     "output_type": "execute_result"
    }
   ],
   "source": [
    "rank2t"
   ]
  },
  {
   "cell_type": "code",
   "execution_count": 23,
   "id": "49a0f4dd",
   "metadata": {},
   "outputs": [
    {
     "data": {
      "text/plain": [
       "(<tf.Tensor: shape=(), dtype=int32, numpy=2>,\n",
       " <tf.Tensor: shape=(), dtype=int32, numpy=1>)"
      ]
     },
     "execution_count": 23,
     "metadata": {},
     "output_type": "execute_result"
    }
   ],
   "source": [
    "tf.rank(rank2t), tf.rank(rank1t)  # Checking the relavant rank/dimension"
   ]
  },
  {
   "cell_type": "code",
   "execution_count": 25,
   "id": "8a7e1a34",
   "metadata": {},
   "outputs": [
    {
     "data": {
      "text/plain": [
       "(TensorShape([1]), TensorShape([2, 2]))"
      ]
     },
     "execution_count": 25,
     "metadata": {},
     "output_type": "execute_result"
    }
   ],
   "source": [
    "rank1t.shape, rank2t.shape    # Checking shape:The amount of elements exist in each dimension"
   ]
  },
  {
   "cell_type": "markdown",
   "id": "c2140e95",
   "metadata": {},
   "source": [
    "expl: 2 list, 2 elements each"
   ]
  },
  {
   "cell_type": "markdown",
   "id": "72db1ae0",
   "metadata": {},
   "source": [
    "### Changing shape"
   ]
  },
  {
   "cell_type": "code",
   "execution_count": 30,
   "id": "36287c03",
   "metadata": {},
   "outputs": [
    {
     "data": {
      "text/plain": [
       "<tf.Tensor: shape=(1, 2, 3), dtype=float32, numpy=\n",
       "array([[[1., 1., 1.],\n",
       "        [1., 1., 1.]]], dtype=float32)>"
      ]
     },
     "execution_count": 30,
     "metadata": {},
     "output_type": "execute_result"
    }
   ],
   "source": [
    "ten1=tf.ones([1,2,3]) #one interior list which contain 2_list and each list contain 3 elements\n",
    "ten1"
   ]
  },
  {
   "cell_type": "code",
   "execution_count": 33,
   "id": "cbec25a7",
   "metadata": {},
   "outputs": [
    {
     "data": {
      "text/plain": [
       "<tf.Tensor: shape=(3, 2, 1), dtype=float32, numpy=\n",
       "array([[[1.],\n",
       "        [1.]],\n",
       "\n",
       "       [[1.],\n",
       "        [1.]],\n",
       "\n",
       "       [[1.],\n",
       "        [1.]]], dtype=float32)>"
      ]
     },
     "execution_count": 33,
     "metadata": {},
     "output_type": "execute_result"
    }
   ],
   "source": [
    "ten2=tf.reshape(ten1, [3,2,1])\n",
    "ten2"
   ]
  },
  {
   "cell_type": "code",
   "execution_count": 35,
   "id": "64c6f8f1",
   "metadata": {},
   "outputs": [
    {
     "data": {
      "text/plain": [
       "<tf.Tensor: shape=(3, 2), dtype=float32, numpy=\n",
       "array([[1., 1.],\n",
       "       [1., 1.],\n",
       "       [1., 1.]], dtype=float32)>"
      ]
     },
     "execution_count": 35,
     "metadata": {},
     "output_type": "execute_result"
    }
   ],
   "source": [
    "ten3=tf.reshape(ten2, [3, -1])\n",
    "ten3"
   ]
  },
  {
   "cell_type": "code",
   "execution_count": null,
   "id": "3acfea14",
   "metadata": {},
   "outputs": [],
   "source": []
  }
 ],
 "metadata": {
  "kernelspec": {
   "display_name": "Python 3 (ipykernel)",
   "language": "python",
   "name": "python3"
  },
  "language_info": {
   "codemirror_mode": {
    "name": "ipython",
    "version": 3
   },
   "file_extension": ".py",
   "mimetype": "text/x-python",
   "name": "python",
   "nbconvert_exporter": "python",
   "pygments_lexer": "ipython3",
   "version": "3.9.13"
  }
 },
 "nbformat": 4,
 "nbformat_minor": 5
}
